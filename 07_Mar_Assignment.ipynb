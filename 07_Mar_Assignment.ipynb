{
 "cells": [
  {
   "cell_type": "markdown",
   "metadata": {},
   "source": [
    "Q1. What are the three measures of central tendency?"
   ]
  },
  {
   "cell_type": "markdown",
   "metadata": {},
   "source": [
    "1. Mean\n",
    "2. Median\n",
    "3. Mode"
   ]
  },
  {
   "cell_type": "code",
   "execution_count": null,
   "metadata": {},
   "outputs": [],
   "source": []
  },
  {
   "cell_type": "markdown",
   "metadata": {},
   "source": [
    "Q2. What is the difference between the mean, median, and mode? How are they used to measure the\n",
    "central tendency of a dataset?"
   ]
  },
  {
   "cell_type": "markdown",
   "metadata": {},
   "source": [
    "|Measure\t|Calculation\t|Interpretation\t|Usefulness|\n",
    "|---|---|---|---|\n",
    "|Mean\t|Sum of all values divided by the total number of values\t|Represents the central tendency of the data by taking into account all values\t|Useful for symmetric datasets with no outliers|\n",
    "|Median\t|The middle value in a dataset when values are arranged in order from smallest to largest\t|Represents the midpoint of the dataset, less sensitive to outliers than the mean\t|Useful for skewed datasets or datasets with outliers|\n",
    "|Mode\t|The value that appears most frequently in the dataset\t|Represents the most common value in the dataset\t|Useful for identifying the most common category or value in a dataset, may be used with both numerical and categorical data\n",
    "\n",
    "Note that while the mean and median can be calculated for both numerical and categorical data, the mode is typically only used for categorical data."
   ]
  },
  {
   "cell_type": "code",
   "execution_count": null,
   "metadata": {},
   "outputs": [],
   "source": []
  },
  {
   "cell_type": "markdown",
   "metadata": {},
   "source": [
    "Q3. Measure the three measures of central tendency for the given height data:\n",
    "\n",
    "[178,177,176,177,178.2,178,175,179,180,175,178.9,176.2,177,172.5,178,176.5]"
   ]
  },
  {
   "cell_type": "code",
   "execution_count": 7,
   "metadata": {},
   "outputs": [
    {
     "name": "stdout",
     "output_type": "stream",
     "text": [
      "mean:  177.01875\n",
      "median:  177.0\n"
     ]
    }
   ],
   "source": [
    "import numpy as np\n",
    "height=[178,177,176,177,178.2,178,175,179,180,175,178.9,176.2,177,172.5,178,176.5]\n",
    "print('mean: ',np.mean(height))\n",
    "print('median: ',np.median(height))\n"
   ]
  },
  {
   "cell_type": "markdown",
   "metadata": {},
   "source": [
    "Mode:\n",
    "The mode is the value that appears most frequently in the dataset. In this case, there are two values that appear most frequently (175 and 178), each occurring three times. Therefore, this dataset has two modes: 175 cm and 178 cm.\n",
    "\n",
    "note: there are two modes suggests that the dataset may have bimodal distribution."
   ]
  },
  {
   "cell_type": "markdown",
   "metadata": {},
   "source": [
    "Q4. Find the standard deviation for the given data:\n",
    "\n",
    "[178,177,176,177,178.2,178,175,179,180,175,178.9,176.2,177,172.5,178,176.5]"
   ]
  },
  {
   "cell_type": "code",
   "execution_count": 10,
   "metadata": {},
   "outputs": [
    {
     "name": "stdout",
     "output_type": "stream",
     "text": [
      "standard deviation:  1.7885814036548633\n"
     ]
    }
   ],
   "source": [
    "import numpy as np\n",
    "s=[178,177,176,177,178.2,178,175,179,180,175,178.9,176.2,177,172.5,178,176.5]\n",
    "print(\"standard deviation: \",np.std(s))"
   ]
  },
  {
   "cell_type": "markdown",
   "metadata": {},
   "source": [
    "Q5. How are measures of dispersion such as range, variance, and standard deviation used to describe\n",
    "the spread of a dataset? Provide an example."
   ]
  },
  {
   "cell_type": "code",
   "execution_count": 11,
   "metadata": {},
   "outputs": [
    {
     "name": "stdout",
     "output_type": "stream",
     "text": [
      "Total bill range: 47.74\n",
      "Total bill variance: 79.25\n",
      "Total bill standard deviation: 8.90\n"
     ]
    }
   ],
   "source": [
    "import seaborn as sns\n",
    "\n",
    "# Load the tips dataset\n",
    "tips = sns.load_dataset(\"tips\")\n",
    "\n",
    "# Calculate the range of the total bill\n",
    "bill_range = tips[\"total_bill\"].max() - tips[\"total_bill\"].min()\n",
    "\n",
    "# Calculate the variance of the total bill\n",
    "bill_var = tips[\"total_bill\"].var()\n",
    "\n",
    "# Calculate the standard deviation of the total bill\n",
    "bill_std = tips[\"total_bill\"].std()\n",
    "\n",
    "# Print the results\n",
    "print(\"Total bill range: {:.2f}\".format(bill_range))\n",
    "print(\"Total bill variance: {:.2f}\".format(bill_var))\n",
    "print(\"Total bill standard deviation: {:.2f}\".format(bill_std))"
   ]
  },
  {
   "cell_type": "markdown",
   "metadata": {},
   "source": [
    "Q6. What is a Venn diagram?"
   ]
  },
  {
   "cell_type": "markdown",
   "metadata": {},
   "source": [
    "A Venn diagram is a graphical representation of set theory that shows all possible logical relations between a finite collection of different sets\n",
    "\n",
    "They can be used to solve problems involving set operations, such as union, intersection, and complement, and to illustrate concepts such as probability, logic, and data analysis."
   ]
  },
  {
   "cell_type": "markdown",
   "metadata": {},
   "source": [
    "Q7. For the two given sets A = (2,3,4,5,6,7) & B = (0,2,6,8,10). Find:\n",
    "\n",
    "(i)  A n B\n",
    "\n",
    "(ii) A U B"
   ]
  },
  {
   "cell_type": "code",
   "execution_count": 16,
   "metadata": {},
   "outputs": [
    {
     "name": "stdout",
     "output_type": "stream",
     "text": [
      "A intersection B:  {2, 6}\n",
      "A union B:  {0, 2, 3, 4, 5, 6, 7, 8, 10}\n"
     ]
    }
   ],
   "source": [
    "import numpy as np\n",
    "A = {2,3,4,5,6,7} \n",
    "B = {0,2,6,8,10}\n",
    "\n",
    "print(\"A intersection B: \",A.intersection(B))\n",
    "print(\"A union B: \",A.union(B))"
   ]
  },
  {
   "cell_type": "markdown",
   "metadata": {},
   "source": [
    "Q8. What do you understand about skewness in data?"
   ]
  },
  {
   "cell_type": "markdown",
   "metadata": {},
   "source": [
    "Skewness is a measure of the asymmetry of a probability distribution or a dataset\n",
    "\n",
    "There are two types of skewness: positive skewness and negative skewness. Positive skewness occurs when the tail of the distribution is longer on the right-hand side (i.e., the mean is greater than the median), while negative skewness occurs when the tail of the distribution is longer on the left-hand side (i.e., the mean is less than the median).\n",
    "    "
   ]
  },
  {
   "cell_type": "markdown",
   "metadata": {},
   "source": [
    "Q9. If a data is right skewed then what will be the position of median with respect to mean?"
   ]
  },
  {
   "cell_type": "markdown",
   "metadata": {},
   "source": [
    "This is because in a right-skewed distribution, the tail of the distribution is longer on the right-hand sidewhich means there are more extreme values on the right-hand side"
   ]
  },
  {
   "cell_type": "markdown",
   "metadata": {},
   "source": [
    "Q10. Explain the difference between covariance and correlation. How are these measures used in\n",
    "statistical analysis?"
   ]
  },
  {
   "cell_type": "markdown",
   "metadata": {},
   "source": [
    "Covariance and correlation are two measures used in statistical analysis to describe the relationship between two variables.\n",
    "\n",
    "Covariance measures how much two variables vary together, in the same directions.\n",
    "\n",
    "Covariance can be positive, negative, or zero. A positive covariance indicates that the variables tend to move in the same direction, while a negative covariance indicates that the variables tend to move in opposite directions. A covariance of zero indicates that the variables are uncorrelated.\n",
    "\n",
    "the covariance between two variables X and Y is calculated as the average of the product of their deviations from their respective means:\n",
    "\n",
    "Cov(X, Y) = E[(X - E[X])(Y - E[Y])]"
   ]
  },
  {
   "cell_type": "markdown",
   "metadata": {},
   "source": [
    "Correlation is a standardized measure of the linear relationship between two variables. It measures the strength and direction of the relationship between two variables on a scale from -1 to 1, where -1 indicates a perfect negative correlation, 0 indicates no correlation, and 1 indicates a perfect positive correlation. \n",
    "\n",
    "The correlation between two variables X and Y is calculated as the covariance between X and Y divided by the product of their standard deviations:\n",
    "\n",
    "Corr(X, Y) = Cov(X, Y) / (SD[X] * SD[Y])"
   ]
  },
  {
   "cell_type": "markdown",
   "metadata": {},
   "source": [
    "Q11. What is the formula for calculating the sample mean? Provide an example calculation for a\n",
    "dataset."
   ]
  },
  {
   "cell_type": "markdown",
   "metadata": {},
   "source": [
    "The formula for calculating the sample mean (x̄) is:\n",
    "\n",
    "x̄ = (Σx) / n\n",
    "\n",
    "Where:\n",
    "\n",
    "    Σx is the sum of all values in the dataset\n",
    "    n is the number of values in the dataset\n",
    "\n",
    "To calculate the sample mean, we add up all the values in the dataset and divide by the number of values. Here's an example calculation:\n",
    "\n",
    "Dataset: 10, 15, 20, 25, 30\n",
    "\n",
    "x̄ = (10 + 15 + 20 + 25 + 30) / 5\n",
    "\n",
    "x̄ = 100 / 5\n",
    "\n",
    "x̄ = 20\n",
    "\n",
    "Therefore, the sample mean for this dataset is 20."
   ]
  },
  {
   "cell_type": "markdown",
   "metadata": {},
   "source": [
    "Q12. For a normal distribution data what is the relationship between its measure of central tendency?"
   ]
  },
  {
   "cell_type": "markdown",
   "metadata": {},
   "source": [
    "For a normal distribution, the measures of central tendency (mean, median, and mode) are all equal. This is because a normal distribution is symmetric around its mean, and the mean is the balancing point of the distribution.\n",
    "\n",
    "This also means that the skewness of the distribution is zero, since there is no tendency for the data to be skewed towards one end of the distribution."
   ]
  },
  {
   "cell_type": "markdown",
   "metadata": {},
   "source": [
    "Q13. How is covariance different from correlation?"
   ]
  },
  {
   "cell_type": "markdown",
   "metadata": {},
   "source": [
    "||Covariance|Correlation|\n",
    "|---|---|---|\n",
    "|Interpretation\t|Measures the extent to which two variables are linearly associated.\t|Measures the strength and direction of the linear relationship between two variables.|\n",
    "|Scaling\t|Not standardized; values can range from negative infinity to positive infinity.\t|Standardized; values range from -1 to 1.|\n",
    "|Direction\t|Can be positive or negative.\t|Always between -1 and 1; positive values indicate a positive relationship, negative values indicate a negative relationship, and a value of 0 indicates no relationship.|\n",
    "|Magnitude\t|Difficult to compare magnitudes across different pairs of variables.\t|Easy to compare magnitudes across different pairs of variables.|\n",
    "|Formula\t|Cov(X,Y) = Σ[(Xi - X̄)(Yi - Ȳ)] / (n-1)\t|r = Cov(X,Y) / [SD(X) * SD(Y)]|\n",
    "|Example\t|If two variables have a positive covariance, it means that they tend to increase or decrease together.\t|A correlation coefficient of 0.8 indicates a strong positive relationship between two variables, whereas a correlation coefficient of -0.5 indicates a moderate negative relationship.|"
   ]
  },
  {
   "cell_type": "markdown",
   "metadata": {},
   "source": [
    "Q14. How do outliers affect measures of central tendency and dispersion? Provide an example."
   ]
  },
  {
   "cell_type": "markdown",
   "metadata": {},
   "source": [
    "Outliers are data points that are significantly different from other data points in a dataset. Outliers can have a significant impact on measures of central tendency and dispersion.\n",
    "\n",
    "    Measures of central tendency: \n",
    "    Outliers can greatly affect the mean, as it is sensitive to extreme values. For example, consider the following dataset: [1, 2, 3, 4, 5, 100]. The mean of this dataset is (1+2+3+4+5+100)/6 = 19.2, which is heavily influenced by the outlier value of 100. \n",
    "    The median, however, is not affected by the outlier, and remains at the central value of 3.5.\n",
    "\n",
    "    Measures of dispersion: \n",
    "    Outliers can also affect measures of dispersion, such as range, variance, and standard deviation. Range is heavily influenced by outliers, as it is the difference between the largest and smallest values in the dataset. \n",
    "    Variance and standard deviation are also affected by outliers, as they are based on the squared difference between each value and the mean. For example, consider the following dataset: [1, 2, 3, 4, 5, 100]. The range of this dataset is 99, which is heavily influenced by the outlier value of 100. The variance and standard deviation are also heavily influenced by the outlier, as the squared difference between 100 and the mean (19.2) is much larger than the squared difference between the other values and the mean.\n",
    "\n",
    "In summary, outliers can have a significant impact on measures of central tendency and dispersion, particularly the mean and range. It is important to identify and handle outliers appropriately in statistical analysis to avoid misleading results."
   ]
  }
 ],
 "metadata": {
  "kernelspec": {
   "display_name": "Python 3",
   "language": "python",
   "name": "python3"
  },
  "language_info": {
   "codemirror_mode": {
    "name": "ipython",
    "version": 3
   },
   "file_extension": ".py",
   "mimetype": "text/x-python",
   "name": "python",
   "nbconvert_exporter": "python",
   "pygments_lexer": "ipython3",
   "version": "3.6.5"
  }
 },
 "nbformat": 4,
 "nbformat_minor": 2
}
